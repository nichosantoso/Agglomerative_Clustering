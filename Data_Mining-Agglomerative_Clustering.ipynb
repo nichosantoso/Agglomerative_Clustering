{
  "nbformat": 4,
  "nbformat_minor": 0,
  "metadata": {
    "colab": {
      "name": "Agglomerative_Clustering-Data_Mining",
      "provenance": [],
      "collapsed_sections": []
    },
    "kernelspec": {
      "name": "python3",
      "display_name": "Python 3"
    }
  },
  "cells": [
    {
      "cell_type": "code",
      "metadata": {
        "id": "ZEHJ6FPwWeT-",
        "colab_type": "code",
        "colab": {}
      },
      "source": [
        "import numpy as np\n",
        "import matplotlib.pyplot as plt\n",
        "import pandas as pd"
      ],
      "execution_count": 0,
      "outputs": []
    },
    {
      "cell_type": "code",
      "metadata": {
        "id": "n2hchdXeXZ_r",
        "colab_type": "code",
        "colab": {}
      },
      "source": [
        "#dataset with 36 data for each columns (number in range 1-100)\n",
        "df = pd.DataFrame({\n",
        "    'a':[10,34,62,74,31,68,39,70,12,72,65,72,87,11,21,23,43,52,66,37,34,99,39,80,96,62,47,89,13,27,71,63,83,95,32],\n",
        "    'b':[67,56,23,1,5,14,97,77,62,83,92,58,32,44,17,37,85,39,12,16,28,36,45,56,94,80,88,32,26,8,61,53,73,65,22]\n",
        "})\n",
        "dataset= df.to_numpy()\n",
        "print (dataset)"
      ],
      "execution_count": 0,
      "outputs": []
    },
    {
      "cell_type": "code",
      "metadata": {
        "id": "9EKBow6EXyfm",
        "colab_type": "code",
        "colab": {}
      },
      "source": [
        "points = dataset"
      ],
      "execution_count": 0,
      "outputs": []
    },
    {
      "cell_type": "code",
      "metadata": {
        "id": "fMJkb_SrX0iO",
        "colab_type": "code",
        "colab": {}
      },
      "source": [
        "import scipy.cluster.hierarchy as sch\n",
        "from sklearn.cluster import AgglomerativeClustering"
      ],
      "execution_count": 0,
      "outputs": []
    },
    {
      "cell_type": "code",
      "metadata": {
        "id": "Pt8Hv1anX4bd",
        "colab_type": "code",
        "colab": {
          "base_uri": "https://localhost:8080/",
          "height": 269
        },
        "outputId": "7891b777-d3fd-4b59-9d81-fadc6a292e0c"
      },
      "source": [
        "#create a dendogram\n",
        "dendrogram = sch.dendrogram(sch.linkage(points, method='ward'))"
      ],
      "execution_count": 10,
      "outputs": [
        {
          "output_type": "display_data",
          "data": {
            "image/png": "[encoded data removed]",
            "text/plain": [
              "<Figure size 432x288 with 1 Axes>"
            ]
          },
          "metadata": {
            "tags": []
          }
        }
      ]
    },
    {
      "cell_type": "code",
      "metadata": {
        "id": "JUyr-pR6X7Et",
        "colab_type": "code",
        "colab": {
          "base_uri": "https://localhost:8080/",
          "height": 297
        },
        "outputId": "cb2f4a6f-1597-4b1a-9971-f05c945211ef"
      },
      "source": [
        "df.plot.scatter(x='a', y='b')"
      ],
      "execution_count": 11,
      "outputs": [
        {
          "output_type": "execute_result",
          "data": {
            "text/plain": [
              "<matplotlib.axes._subplots.AxesSubplot at 0x7fac8fc2d320>"
            ]
          },
          "metadata": {
            "tags": []
          },
          "execution_count": 11
        },
        {
          "output_type": "display_data",
          "data": {
            "image/png": "[encoded data removed]",
            "text/plain": [
              "<Figure size 432x288 with 1 Axes>"
            ]
          },
          "metadata": {
            "tags": []
          }
        }
      ]
    },
    {
      "cell_type": "code",
      "metadata": {
        "id": "MxU5ObE2X9Ad",
        "colab_type": "code",
        "colab": {}
      },
      "source": [
        "hc = AgglomerativeClustering(n_clusters=5, affinity='euclidean', linkage='ward')"
      ],
      "execution_count": 0,
      "outputs": []
    },
    {
      "cell_type": "code",
      "metadata": {
        "id": "41TMHomHYEj3",
        "colab_type": "code",
        "colab": {}
      },
      "source": [
        "y_hc = hc.fit_predict(points)"
      ],
      "execution_count": 0,
      "outputs": []
    },
    {
      "cell_type": "code",
      "metadata": {
        "id": "xUYo2UfQYHmo",
        "colab_type": "code",
        "colab": {
          "base_uri": "https://localhost:8080/",
          "height": 102
        },
        "outputId": "40d551f8-60cc-4eeb-983c-0e0af223869a"
      },
      "source": [
        "print(np.where(y_hc == 0))\n",
        "print(np.where(y_hc == 1))\n",
        "print(np.where(y_hc == 2))\n",
        "print(np.where(y_hc == 3))\n",
        "print(np.where(y_hc == 4))"
      ],
      "execution_count": 14,
      "outputs": [
        {
          "output_type": "stream",
          "text": [
            "(array([ 2,  3,  5, 12, 18, 21, 27]),)\n",
            "(array([ 0,  1,  8, 17, 22]),)\n",
            "(array([ 4, 13, 14, 15, 19, 20, 28, 29, 34]),)\n",
            "(array([ 7,  9, 10, 11, 23, 24, 25, 30, 31, 32, 33]),)\n",
            "(array([ 6, 16, 26]),)\n"
          ],
          "name": "stdout"
        }
      ]
    },
    {
      "cell_type": "code",
      "metadata": {
        "id": "PMG7RgsiYJ5-",
        "colab_type": "code",
        "colab": {
          "base_uri": "https://localhost:8080/",
          "height": 283
        },
        "outputId": "f227402c-fd93-4b81-ee85-8667b93a5538"
      },
      "source": [
        "plt.scatter(points[y_hc==0,0], points[y_hc==0,1], s=100, c='green')\n",
        "plt.scatter(points[y_hc==1,0], points[y_hc==1,1], s=100, c='red')\n",
        "plt.scatter(points[y_hc==2,0], points[y_hc==2,1], s=100, c='yellow')\n",
        "plt.scatter(points[y_hc==3,0], points[y_hc==3,1], s=100, c='blue')\n",
        "plt.scatter(points[y_hc==4,0], points[y_hc==4,1], s=100, c='magenta')"
      ],
      "execution_count": 15,
      "outputs": [
        {
          "output_type": "execute_result",
          "data": {
            "text/plain": [
              "<matplotlib.collections.PathCollection at 0x7fac8fb52c50>"
            ]
          },
          "metadata": {
            "tags": []
          },
          "execution_count": 15
        },
        {
          "output_type": "display_data",
          "data": {
            "image/png": "[encoded data removed]",
            "text/plain": [
              "<Figure size 432x288 with 1 Axes>"
            ]
          },
          "metadata": {
            "tags": []
          }
        }
      ]
    }
  ]
}